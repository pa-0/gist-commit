{
 "cells": [
  {
   "cell_type": "markdown",
   "metadata": {},
   "source": [
    "Use PowerShell to generate Mermaid entity-relationship diagrams for processes running under a company"
   ]
  },
  {
   "cell_type": "code",
   "execution_count": null,
   "metadata": {
    "dotnet_interactive": {
     "language": "pwsh"
    },
    "vscode": {
     "languageId": "dotnet-interactive.pwsh"
    }
   },
   "outputs": [
    {
     "data": {
      "text/html": [
       "  <div style=\"background-color:white;\"><script type=\"text/javascript\">\r\n",
       "  loadMermaid_0970a1daf69d45c5b0bf2c588b436014 = () => {(require.config({ 'paths': { 'context': '1.0.252001', 'mermaidUri' : 'https://colombod.github.io/dotnet-interactive-cdn/extensionlab/1.0.252001/mermaid/mermaidapi', 'urlArgs': 'cacheBuster=7de2aec4927849b5a989d2305cf957bc' }}) || require)(['mermaidUri'], (mermaid) => {let renderTarget = document.getElementById('0970a1daf69d45c5b0bf2c588b436014'); mermaid.render( 'mermaid_0970a1daf69d45c5b0bf2c588b436014', `graph LR;\r\n",
       "\tDELL-->SmartByteTelemetry;\n",
       " \tDell_Technologies-->AWCC;\n",
       " \tDell_Technologies-->AWCC_Background_Server;\n",
       " \tDell_Technologies-->GameLibraryAppService;\n",
       " \tDell_Technologies_Inc_-->nvapiw;\n",
       " \tDiscord_Inc_-->Discord;\n",
       " \tDiscord_Inc_-->Discord;\n",
       " \tDiscord_Inc_-->Discord;\n",
       " \tDiscord_Inc_-->Discord;\n",
       " \tDiscord_Inc_-->Discord;\n",
       " \tDocker_Inc_-->com_docker_backend;\n",
       " \tDocker_Inc_-->com_docker_backend;\n",
       " \tDocker_Inc_-->com_docker_desktop-extensions;\n",
       " \tDocker_Inc_-->com_docker_proxy;\n",
       " \tDocker_Inc_-->com_docker_wsl-distro-proxy;\n",
       " \tIntel_Corporation-->IGCC;\n",
       " \tIntel_Corporation-->IGCCTray;\n",
       " \tIntel_Corporation-->igfxEM;\n",
       " \tMicrosoft_Corporation-->ApplicationFrameHost;\n",
       " \tMicrosoft_Corporation-->Code;\n",
       " \tMicrosoft_Corporation-->Code;\n",
       " \tMicrosoft_Corporation-->Code;\n",
       " \tMicrosoft_Corporation-->Code;\n",
       " \tNode_js-->NVIDIA_Web_Helper;\n",
       " \tNVIDIA_Corporation-->NVIDIA_Share;\n",
       " \tNVIDIA_Corporation-->NVIDIA_Share;\n",
       " \tNVIDIA_Corporation-->NVIDIA_Share;\n",
       " \tRealtek_Semiconductor-->RtkAudUService64;\n",
       " \tTechSmith_Corporation-->Snagit32;\n",
       " \tTechSmith_Corporation-->SnagitEditor;`, g => {renderTarget.innerHTML = g  });}, (error) => {console.log(error);});}\r\n",
       "  if ((typeof(require) !==  typeof(Function)) || (typeof(require.config) !== typeof(Function))) {\r\n",
       "      let require_script = document.createElement('script');\r\n",
       "      require_script.setAttribute('src', 'https://cdnjs.cloudflare.com/ajax/libs/require.js/2.3.6/require.min.js');\r\n",
       "      require_script.setAttribute('type', 'text/javascript');\r\n",
       "      require_script.onload = function() {loadMermaid_0970a1daf69d45c5b0bf2c588b436014();};\r\n",
       "      document.getElementsByTagName('head')[0].appendChild(require_script);\r\n",
       "  }\r\n",
       "  else {loadMermaid_0970a1daf69d45c5b0bf2c588b436014();}\r\n",
       "  </script><div id=\"0970a1daf69d45c5b0bf2c588b436014\"></div></div>"
      ]
     },
     "metadata": {},
     "output_type": "display_data"
    }
   ],
   "source": [
    ". .\\Mermaid.ps1\n",
    "\n",
    "$data = get-process | Where-Object Company | Group-Object Company\n",
    "\n",
    "$pattern = ' |\\.'\n",
    "$diagram = $data | ForEach-Object {\n",
    "    $_.group | Select-Object -first 5 Company, ProcessName\n",
    "} | ForEach-Object {\n",
    "    \"`t`{0}`-->`{1}`;`n\" -f ($_.Company -replace $pattern, '_'), ($_.ProcessName -replace $pattern, '_')\n",
    "}\n",
    "\n",
    "Mermaid @\"\n",
    "graph LR;\n",
    "$($diagram)\n",
    "\"@"
   ]
  }
 ],
 "metadata": {
  "kernelspec": {
   "display_name": ".NET (PowerShell)",
   "language": "PowerShell",
   "name": ".net-pwsh"
  },
  "language_info": {
   "name": "PowerShell"
  }
 },
 "nbformat": 4,
 "nbformat_minor": 2
}
