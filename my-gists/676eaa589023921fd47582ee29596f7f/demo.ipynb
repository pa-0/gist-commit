{
    "metadata": {
        "kernelspec": {
            "name": "powershell",
            "display_name": "PowerShell"
        },
        "language_info": {
            "name": "powershell",
            "codemirror_mode": "shell",
            "mimetype": "text/x-sh",
            "file_extension": ".ps1"
        }
    },
    "nbformat_minor": 2,
    "nbformat": 4,
    "cells": [
        {
            "cell_type": "markdown",
            "source": [
                "# Chapter 1"
            ],
            "metadata": {
                "azdata_cell_guid": "5459dc0a-a3b9-436f-8a6c-42a321987979"
            }
        },
        {
            "cell_type": "code",
            "source": [
                "Get-Process | Select-Object -first 5\r\n",
                ""
            ],
            "metadata": {
                "azdata_cell_guid": "c211eb3e-5625-4383-88e4-255423a845b0"
            },
            "outputs": [
                {
                    "output_type": "stream",
                    "name": "stdout",
                    "text": "\r\n NPM(K)    PM(M)      WS(M)     CPU(s)      Id  SI ProcessName\r\n ------    -----      -----     ------      --  -- -----------\r\n     16     5.59      21.72       0.11   11508   1 ApplicationFrameHost\r\n     16     7.57      13.30     106.33    9424   0 audiodg\r\n     60    43.75      99.90       6.97    2832   1 azuredatastudio\r\n     84    80.55     100.52       6.53   12340   1 azuredatastudio\r\n     38   241.68      90.46      13.58   13984   1 azuredatastudio\r\n\r\n"
                }
            ],
            "execution_count": 0
        },
        {
            "cell_type": "markdown",
            "source": [
                "\r\n",
                ""
            ],
            "metadata": {
                "azdata_cell_guid": "b00538bd-4ac4-4c68-b8f7-19dc0bb26f57"
            }
        }
    ]
}