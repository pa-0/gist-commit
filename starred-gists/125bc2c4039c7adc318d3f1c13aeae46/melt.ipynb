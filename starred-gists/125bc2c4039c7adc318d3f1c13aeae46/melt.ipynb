{
 "cells": [
  {
   "cell_type": "code",
   "execution_count": null,
   "metadata": {
    "dotnet_interactive": {
     "language": "pwsh"
    }
   },
   "outputs": [],
   "source": [
    "function melt {\n",
    "    <#\n",
    "        .SYNOPSIS \n",
    "        Unpivot a given array from wide format to long format\n",
    "    #>\n",
    "    param(\n",
    "        $targetData,\n",
    "        [string]$Id,\n",
    "        [string[]]$Vars,\n",
    "        $VarName = \"variable\",\n",
    "        $ValueName = \"value\"\n",
    "    )\n",
    "\n",
    "    foreach ($var in $Vars) {\n",
    "        foreach ($record in $targetData) {\n",
    "            $h = [ordered]@{Name = $record.$Id }\n",
    "            $h[$VarName] = $var\n",
    "            $h[$ValueName] = $record.$var\n",
    "            [pscustomobject]$h\n",
    "        }\n",
    "    }\n",
    "}"
   ]
  },
  {
   "cell_type": "code",
   "execution_count": null,
   "metadata": {
    "dotnet_interactive": {
     "language": "pwsh"
    }
   },
   "outputs": [],
   "source": [
    "$data = ConvertFrom-Csv @\"\n",
    "Name,Course,Age\n",
    "John,Masters,27\n",
    "Bob,Graduate,23\n",
    "Shiela,Graduate,21\n",
    "\"@"
   ]
  },
  {
   "cell_type": "code",
   "execution_count": null,
   "metadata": {
    "dotnet_interactive": {
     "language": "pwsh"
    }
   },
   "outputs": [
    {
     "name": "stdout",
     "output_type": "stream",
     "text": [
      "\r\n",
      "Name   Course   Age\r\n",
      "----   ------   ---\r\n",
      "John   Masters  27\r\n",
      "Bob    Graduate 23\r\n",
      "Shiela Graduate 21\r\n",
      "\r\n"
     ]
    }
   ],
   "source": [
    "$data"
   ]
  },
  {
   "cell_type": "code",
   "execution_count": null,
   "metadata": {
    "dotnet_interactive": {
     "language": "pwsh"
    }
   },
   "outputs": [
    {
     "name": "stdout",
     "output_type": "stream",
     "text": [
      "\r\n",
      "Name   Category Value\r\n",
      "----   -------- -----\r\n",
      "John   course   Masters\r\n",
      "Bob    course   Graduate\r\n",
      "Shiela course   Graduate\r\n",
      "John   age      27\r\n",
      "Bob    age      23\r\n",
      "Shiela age      21\r\n",
      "\r\n"
     ]
    }
   ],
   "source": [
    "melt $data name course, age Category Value"
   ]
  }
 ],
 "metadata": {
  "kernelspec": {
   "display_name": ".NET (C#)",
   "language": "C#",
   "name": ".net-csharp"
  },
  "language_info": {
   "file_extension": ".cs",
   "mimetype": "text/x-csharp",
   "name": "C#",
   "pygments_lexer": "csharp",
   "version": "9.0"
  }
 },
 "nbformat": 4,
 "nbformat_minor": 2
}
